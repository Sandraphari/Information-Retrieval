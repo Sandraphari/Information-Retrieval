{
  "nbformat": 4,
  "nbformat_minor": 0,
  "metadata": {
    "colab": {
      "name": "Inverted Index.ipynb",
      "provenance": []
    },
    "kernelspec": {
      "name": "python3",
      "display_name": "Python 3"
    },
    "language_info": {
      "name": "python"
    }
  },
  "cells": [
    {
      "cell_type": "code",
      "metadata": {
        "id": "la-aQ7CMGbGl"
      },
      "source": [
        "doc_1='new home sales top forecasts'\n",
        "doc_2='home sales rise in july'\n",
        "doc_3='increase in home sales in july'\n",
        "doc_4=' july new home sales rise'"
      ],
      "execution_count": 2,
      "outputs": []
    },
    {
      "cell_type": "code",
      "metadata": {
        "colab": {
          "base_uri": "https://localhost:8080/"
        },
        "id": "HUnOtTHIH7VP",
        "outputId": "46116728-1318-4e1d-da9d-fa590901292e"
      },
      "source": [
        "docs=[doc_1,doc_2,doc_3,doc_4]\n",
        "docs"
      ],
      "execution_count": 3,
      "outputs": [
        {
          "output_type": "execute_result",
          "data": {
            "text/plain": [
              "['new home sales top forecasts',\n",
              " 'home sales rise in july',\n",
              " 'increase in home sales in july',\n",
              " ' july new home sales rise']"
            ]
          },
          "metadata": {
            "tags": []
          },
          "execution_count": 3
        }
      ]
    },
    {
      "cell_type": "code",
      "metadata": {
        "colab": {
          "base_uri": "https://localhost:8080/"
        },
        "id": "FbdufUCnIFVb",
        "outputId": "3e9e7961-b55e-4e12-80e3-607d58509e74"
      },
      "source": [
        "# Finding the unique terms\n",
        "\n",
        "unique=set()\n",
        "for doc in docs:\n",
        "  for term in doc.split():\n",
        "    unique.add(term)\n",
        "unique    "
      ],
      "execution_count": 4,
      "outputs": [
        {
          "output_type": "execute_result",
          "data": {
            "text/plain": [
              "{'forecasts', 'home', 'in', 'increase', 'july', 'new', 'rise', 'sales', 'top'}"
            ]
          },
          "metadata": {
            "tags": []
          },
          "execution_count": 4
        }
      ]
    },
    {
      "cell_type": "code",
      "metadata": {
        "colab": {
          "base_uri": "https://localhost:8080/"
        },
        "id": "H4TwVi_oO_Lb",
        "outputId": "ea11d838-703e-4fd5-8d3b-4f607d23416f"
      },
      "source": [
        "# Constructing the inverted index\n",
        "# Here it is created as a dictionary for the ease of interpretability\n",
        "\n",
        "inv_index={}\n",
        "for i, doc in enumerate(docs):\n",
        "  for term in doc.split():\n",
        "    if term in inv_index:\n",
        "      inv_index[term].add(i)\n",
        "    else:\n",
        "      inv_index[term]={i}\n",
        "inv_index       "
      ],
      "execution_count": 5,
      "outputs": [
        {
          "output_type": "execute_result",
          "data": {
            "text/plain": [
              "{'forecasts': {0},\n",
              " 'home': {0, 1, 2, 3},\n",
              " 'in': {1, 2},\n",
              " 'increase': {2},\n",
              " 'july': {1, 2, 3},\n",
              " 'new': {0, 3},\n",
              " 'rise': {1, 3},\n",
              " 'sales': {0, 1, 2, 3},\n",
              " 'top': {0}}"
            ]
          },
          "metadata": {
            "tags": []
          },
          "execution_count": 5
        }
      ]
    },
    {
      "cell_type": "markdown",
      "metadata": {
        "id": "S1vUD9itSmFY"
      },
      "source": [
        "Now we can get the posting lists for any term. It is a list that records the documents in which that term appeared.We can use them to locate the documents by ID"
      ]
    },
    {
      "cell_type": "code",
      "metadata": {
        "colab": {
          "base_uri": "https://localhost:8080/"
        },
        "id": "D6_0JbELTIHV",
        "outputId": "5544f2f1-aed7-44a5-dc5b-ed50d90c0968"
      },
      "source": [
        "posting_list= inv_index['home']\n",
        "posting_list"
      ],
      "execution_count": 6,
      "outputs": [
        {
          "output_type": "execute_result",
          "data": {
            "text/plain": [
              "{0, 1, 2, 3}"
            ]
          },
          "metadata": {
            "tags": []
          },
          "execution_count": 6
        }
      ]
    },
    {
      "cell_type": "code",
      "metadata": {
        "id": "Sc6wbU_KTSjo"
      },
      "source": [
        "# Now we can perform boolean operations on posting lists for Boolean search operations\n",
        "\n",
        "def or_posting(posting1,posting2):\n",
        "  p1=0\n",
        "  p2=0\n",
        "  union=list()\n",
        "  while p1 < len(posting1) and p2 < len(posting2):\n",
        "    if posting1[p1]== posting2[p2]:\n",
        "      union.append(posting1[p1])\n",
        "      p1+=1\n",
        "      p2+=1\n",
        "    elif posting1[p1] < posting2[p2]:\n",
        "      union.append(posting1[p1])\n",
        "      p1+=1\n",
        "    else:\n",
        "      union.append(posting2[p2])\n",
        "      p2+=1\n",
        "\n",
        "  while p1 < len(posting1):\n",
        "    union.append(posting1[p1])\n",
        "    p1+=1\n",
        "\n",
        "  while p2 < len(posting2):\n",
        "    union.append(posting2[p2])\n",
        "    p2+=1\n",
        "  return union"
      ],
      "execution_count": 7,
      "outputs": []
    },
    {
      "cell_type": "code",
      "metadata": {
        "id": "7TskHha7r-tf"
      },
      "source": [
        "a=list(inv_index['july'])\n",
        "b=list(inv_index['sales'])"
      ],
      "execution_count": 8,
      "outputs": []
    },
    {
      "cell_type": "code",
      "metadata": {
        "colab": {
          "base_uri": "https://localhost:8080/"
        },
        "id": "XuPRCVxtswJV",
        "outputId": "82e8c731-f817-4f63-b093-4a81d5a30dcf"
      },
      "source": [
        "or_posting(a,b)"
      ],
      "execution_count": null,
      "outputs": [
        {
          "output_type": "execute_result",
          "data": {
            "text/plain": [
              "[0, 1, 2, 3]"
            ]
          },
          "metadata": {
            "tags": []
          },
          "execution_count": 24
        }
      ]
    },
    {
      "cell_type": "code",
      "metadata": {
        "id": "4K6rL5LXtvet"
      },
      "source": [
        "def and_posting(posting1,posting2):\n",
        "  p1=0\n",
        "  p2=0\n",
        "  intersection=list()\n",
        "  while p1 < len(posting1) and p2 < len(posting2):\n",
        "    if posting1[p1]==posting2[p2]:\n",
        "      intersection.append(posting1[p1])\n",
        "      p1+=1\n",
        "      p2+=1\n",
        "    elif posting1[p1] < posting2[p2]:\n",
        "      p1+=1\n",
        "    else:\n",
        "      p2+=1\n",
        "  return intersection      "
      ],
      "execution_count": 9,
      "outputs": []
    },
    {
      "cell_type": "code",
      "metadata": {
        "id": "sUzvtR1lux7S"
      },
      "source": [
        "x=list(inv_index['home'])\n",
        "y=list(inv_index['sales'])"
      ],
      "execution_count": null,
      "outputs": []
    },
    {
      "cell_type": "code",
      "metadata": {
        "colab": {
          "base_uri": "https://localhost:8080/"
        },
        "id": "CxcVNPsWu-eZ",
        "outputId": "88418850-2b73-4fd1-b00e-406395795bad"
      },
      "source": [
        "and_posting(x,y)"
      ],
      "execution_count": null,
      "outputs": [
        {
          "output_type": "execute_result",
          "data": {
            "text/plain": [
              "[0, 1, 2, 3]"
            ]
          },
          "metadata": {
            "tags": []
          },
          "execution_count": 29
        }
      ]
    },
    {
      "cell_type": "code",
      "metadata": {
        "id": "cS_2miTiJ7oF"
      },
      "source": [
        "r=list(inv_index['in'])\n",
        "s=list(inv_index['increase'])"
      ],
      "execution_count": 10,
      "outputs": []
    },
    {
      "cell_type": "code",
      "metadata": {
        "colab": {
          "base_uri": "https://localhost:8080/"
        },
        "id": "zRLJEHvSKIec",
        "outputId": "c8c8343f-99f1-4637-911b-cc9a61ba7b22"
      },
      "source": [
        "or_posting(r,s)"
      ],
      "execution_count": 11,
      "outputs": [
        {
          "output_type": "execute_result",
          "data": {
            "text/plain": [
              "[1, 2]"
            ]
          },
          "metadata": {
            "tags": []
          },
          "execution_count": 11
        }
      ]
    },
    {
      "cell_type": "code",
      "metadata": {
        "colab": {
          "base_uri": "https://localhost:8080/"
        },
        "id": "a6jvuuwAKbc8",
        "outputId": "f90c2245-997b-454f-a318-14abf1c699a2"
      },
      "source": [
        "and_posting(r,s)"
      ],
      "execution_count": 12,
      "outputs": [
        {
          "output_type": "execute_result",
          "data": {
            "text/plain": [
              "[2]"
            ]
          },
          "metadata": {
            "tags": []
          },
          "execution_count": 12
        }
      ]
    }
  ]
}