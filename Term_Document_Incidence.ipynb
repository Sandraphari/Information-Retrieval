{
  "nbformat": 4,
  "nbformat_minor": 0,
  "metadata": {
    "colab": {
      "name": "Term Document Incidence.ipynb",
      "provenance": []
    },
    "kernelspec": {
      "name": "python3",
      "display_name": "Python 3"
    },
    "language_info": {
      "name": "python"
    }
  },
  "cells": [
    {
      "cell_type": "code",
      "metadata": {
        "id": "itDI6QnPNgip"
      },
      "source": [
        "doc1 = \"breakthrough drug for schizophrenia\"\n",
        "doc2 = \"new schizophrenia drug\"\n",
        "doc3 = \"new approach for treatment of schizophrenia\"\n",
        "doc4 = \"new hopes for schizophrenia patients\""
      ],
      "execution_count": 1,
      "outputs": []
    },
    {
      "cell_type": "code",
      "metadata": {
        "colab": {
          "base_uri": "https://localhost:8080/"
        },
        "id": "ZY_MfkTKOdLW",
        "outputId": "b99175bb-7fe0-489d-b3b7-de0b227e98a4"
      },
      "source": [
        "docs = [doc1,doc2,doc3,doc4]\n",
        "docs"
      ],
      "execution_count": 2,
      "outputs": [
        {
          "output_type": "execute_result",
          "data": {
            "text/plain": [
              "['breakthrough drug for schizophrenia',\n",
              " 'new schizophrenia drug',\n",
              " 'new approach for treatment of schizophrenia',\n",
              " 'new hopes for schizophrenia patients']"
            ]
          },
          "metadata": {
            "tags": []
          },
          "execution_count": 2
        }
      ]
    },
    {
      "cell_type": "code",
      "metadata": {
        "colab": {
          "base_uri": "https://localhost:8080/"
        },
        "id": "oBsa1D3LOjqL",
        "outputId": "8e822d2b-8bdc-49cb-ebf2-a36a1e8635cb"
      },
      "source": [
        "#Finding unique terms\n",
        "\n",
        "unique=set()\n",
        "for doc in docs:\n",
        "  for term in doc.split():\n",
        "    unique.add(term)\n",
        "unique"
      ],
      "execution_count": 3,
      "outputs": [
        {
          "output_type": "execute_result",
          "data": {
            "text/plain": [
              "{'approach',\n",
              " 'breakthrough',\n",
              " 'drug',\n",
              " 'for',\n",
              " 'hopes',\n",
              " 'new',\n",
              " 'of',\n",
              " 'patients',\n",
              " 'schizophrenia',\n",
              " 'treatment'}"
            ]
          },
          "metadata": {
            "tags": []
          },
          "execution_count": 3
        }
      ]
    },
    {
      "cell_type": "code",
      "metadata": {
        "id": "mgfZelLCPZrj"
      },
      "source": [
        "# Constructing a term-document matrix. Here it is done as a dictionary for the ease of interpretability\n",
        "\n",
        "term_doc_mat = {}\n",
        "\n",
        "for term in unique:\n",
        "  term_doc_mat[term]=[]\n",
        "\n",
        "  for doc in docs:\n",
        "    if term in doc:\n",
        "      term_doc_mat[term].append(1)\n",
        "    else:\n",
        "      term_doc_mat[term].append(0)  "
      ],
      "execution_count": 7,
      "outputs": []
    },
    {
      "cell_type": "code",
      "metadata": {
        "colab": {
          "base_uri": "https://localhost:8080/"
        },
        "id": "Wr04sOviSRNo",
        "outputId": "9a8f5eee-c34e-4f48-aed8-35970ae4ce1b"
      },
      "source": [
        "term_doc_mat"
      ],
      "execution_count": 9,
      "outputs": [
        {
          "output_type": "execute_result",
          "data": {
            "text/plain": [
              "{'approach': [0, 0, 1, 0],\n",
              " 'breakthrough': [1, 0, 0, 0],\n",
              " 'drug': [1, 1, 0, 0],\n",
              " 'for': [1, 0, 1, 1],\n",
              " 'hopes': [0, 0, 0, 1],\n",
              " 'new': [0, 1, 1, 1],\n",
              " 'of': [0, 0, 1, 0],\n",
              " 'patients': [0, 0, 0, 1],\n",
              " 'schizophrenia': [1, 1, 1, 1],\n",
              " 'treatment': [0, 0, 1, 0]}"
            ]
          },
          "metadata": {
            "tags": []
          },
          "execution_count": 9
        }
      ]
    },
    {
      "cell_type": "code",
      "metadata": {
        "colab": {
          "base_uri": "https://localhost:8080/"
        },
        "id": "i5pY4Ls1SV0X",
        "outputId": "8413af46-db6b-4472-f886-24663f60b080"
      },
      "source": [
        "# to find all documents that contain 'drug' and 'schizophrenia' \n",
        "\n",
        "import numpy as np\n",
        "docs_array = np.array(docs,dtype='object')\n",
        "\n",
        "d = np.array(term_doc_mat['drug'])\n",
        "s = np.array(term_doc_mat['schizophrenia'])\n",
        "\n",
        "print(d)\n",
        "print(s)\n",
        "\n",
        "print('---------')\n",
        "intersection = d&s \n",
        "print(intersection)"
      ],
      "execution_count": 32,
      "outputs": [
        {
          "output_type": "stream",
          "text": [
            "[1 1 0 0]\n",
            "[1 1 1 1]\n",
            "---------\n",
            "[1 1 0 0]\n"
          ],
          "name": "stdout"
        }
      ]
    },
    {
      "cell_type": "code",
      "metadata": {
        "colab": {
          "base_uri": "https://localhost:8080/"
        },
        "id": "MLSwzcUYW_s6",
        "outputId": "8d0fa412-9409-40b2-db9c-94583bde466d"
      },
      "source": [
        "# Getting the matching documents \n",
        "\n",
        "match=[]\n",
        "for doc in intersection*docs_array:\n",
        "  if doc :\n",
        "    match.append(doc)\n",
        "match    "
      ],
      "execution_count": 33,
      "outputs": [
        {
          "output_type": "execute_result",
          "data": {
            "text/plain": [
              "['breakthrough drug for schizophrenia', 'new schizophrenia drug']"
            ]
          },
          "metadata": {
            "tags": []
          },
          "execution_count": 33
        }
      ]
    },
    {
      "cell_type": "code",
      "metadata": {
        "colab": {
          "base_uri": "https://localhost:8080/"
        },
        "id": "SXLGAS4mZLcG",
        "outputId": "0a1c1015-15bb-4ac5-abb4-037c5bbd0078"
      },
      "source": [
        "# to find documents containing 'drug' or 'approach'\n",
        "\n",
        "D = np.array(term_doc_mat['drug'])\n",
        "A = np.array(term_doc_mat['approach'])\n",
        "union = D | A\n",
        "\n",
        "print(D)\n",
        "print(A)\n",
        "\n",
        "print('---------')\n",
        "\n",
        "print(union)"
      ],
      "execution_count": 34,
      "outputs": [
        {
          "output_type": "stream",
          "text": [
            "[1 1 0 0]\n",
            "[0 0 1 0]\n",
            "---------\n",
            "[1 1 1 0]\n"
          ],
          "name": "stdout"
        }
      ]
    },
    {
      "cell_type": "code",
      "metadata": {
        "colab": {
          "base_uri": "https://localhost:8080/"
        },
        "id": "VynqxPhfbg9J",
        "outputId": "4806d116-30dc-4daa-a841-687b6d6a848c"
      },
      "source": [
        "# Getting the matching documents\n",
        "\n",
        "Match = []\n",
        "for doc in union*docs_array:\n",
        "  if doc:\n",
        "    Match.append(doc)\n",
        "Match    "
      ],
      "execution_count": 35,
      "outputs": [
        {
          "output_type": "execute_result",
          "data": {
            "text/plain": [
              "['breakthrough drug for schizophrenia',\n",
              " 'new schizophrenia drug',\n",
              " 'new approach for treatment of schizophrenia']"
            ]
          },
          "metadata": {
            "tags": []
          },
          "execution_count": 35
        }
      ]
    }
  ]
}